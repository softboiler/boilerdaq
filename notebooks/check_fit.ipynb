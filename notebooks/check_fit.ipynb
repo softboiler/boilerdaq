{
 "cells": [
  {
   "cell_type": "code",
   "execution_count": null,
   "metadata": {},
   "outputs": [],
   "source": [
    "from submodules.boilercore.src.boilercore.fits import Fit, fit_from_params\n",
    "from submodules.boilercore.src.boilercore.models.geometry import GEOMETRY\n",
    "\n",
    "from boilerdaq.models.params import PARAMS\n",
    "\n",
    "fit = Fit(\n",
    "    free_params=[\"T_s\", \"q_s\", \"h_a\"],\n",
    "    fixed_params=[\"h_w\", \"r\", \"T_infa\", \"T_infw\", \"x_s\", \"x_wa\", \"k\"],\n",
    ")\n",
    "fit.values = {**fit.values, \"h_w\": 1e-3}\n",
    "model, _ = fit.get_models(PARAMS.paths.models)\n",
    "fits, _errors = fit_from_params(\n",
    "    model=model, params=fit, x=GEOMETRY.rods[\"R\"], y=[40, 38, 36, 34, 32]\n",
    ")\n",
    "\n",
    "fits"
   ]
  }
 ],
 "metadata": {
  "kernelspec": {
   "display_name": ".venv",
   "language": "python",
   "name": "python3"
  },
  "language_info": {
   "codemirror_mode": {
    "name": "ipython",
    "version": 3
   },
   "file_extension": ".py",
   "mimetype": "text/x-python",
   "name": "python",
   "nbconvert_exporter": "python",
   "pygments_lexer": "ipython3",
   "version": "3.11.9"
  }
 },
 "nbformat": 4,
 "nbformat_minor": 2
}
