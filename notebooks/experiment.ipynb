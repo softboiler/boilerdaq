{
 "cells": [
  {
   "cell_type": "code",
   "execution_count": null,
   "metadata": {},
   "outputs": [],
   "source": [
    "from datetime import datetime\n",
    "\n",
    "from boilerdaq.models.params import PARAMS\n",
    "from boilerdaq.stages.controlled.surface_control import looper\n",
    "\n",
    "\n",
    "def run(setpoint: float) -> tuple[float, str, datetime]:\n",
    "    file = list(PARAMS.paths.results.iterdir())[-1].stem\n",
    "    print(f\"setp = {setpoint}°C\\nfile = {file}\")\n",
    "    looper(setpoint).start()\n",
    "    done = datetime.now()\n",
    "    print(f\"done = {done}\")\n",
    "    return setpoint, file, done"
   ]
  },
  {
   "cell_type": "markdown",
   "metadata": {},
   "source": [
    "Water at 92"
   ]
  },
  {
   "cell_type": "code",
   "execution_count": null,
   "metadata": {},
   "outputs": [],
   "source": [
    "(setp, file, done) = run(92)"
   ]
  },
  {
   "cell_type": "markdown",
   "metadata": {},
   "source": [
    "Water at 98"
   ]
  },
  {
   "cell_type": "code",
   "execution_count": null,
   "metadata": {},
   "outputs": [],
   "source": [
    "(setp, file, done) = run(100)"
   ]
  },
  {
   "cell_type": "markdown",
   "metadata": {},
   "source": [
    "Water at 98, 97, 96.5, 96C"
   ]
  },
  {
   "cell_type": "code",
   "execution_count": null,
   "metadata": {},
   "outputs": [],
   "source": [
    "(setp, file, done) = run(102)"
   ]
  }
 ],
 "metadata": {
  "kernelspec": {
   "display_name": ".venv",
   "language": "python",
   "name": "python3"
  },
  "language_info": {
   "codemirror_mode": {
    "name": "ipython",
    "version": 3
   },
   "file_extension": ".py",
   "mimetype": "text/x-python",
   "name": "python",
   "nbconvert_exporter": "python",
   "pygments_lexer": "ipython3"
  }
 },
 "nbformat": 4,
 "nbformat_minor": 2
}
